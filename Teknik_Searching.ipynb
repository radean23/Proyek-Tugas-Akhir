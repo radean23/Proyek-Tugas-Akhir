{
  "nbformat": 4,
  "nbformat_minor": 0,
  "metadata": {
    "colab": {
      "provenance": []
    },
    "kernelspec": {
      "name": "python3",
      "display_name": "Python 3"
    },
    "language_info": {
      "name": "python"
    }
  },
  "cells": [
    {
      "cell_type": "code",
      "execution_count": 1,
      "metadata": {
        "id": "-loEGOmmGm4M",
        "colab": {
          "base_uri": "https://localhost:8080/"
        },
        "outputId": "0f2f94fa-06fb-42c6-bdbd-fa7d89e50e0b"
      },
      "outputs": [
        {
          "output_type": "stream",
          "name": "stdout",
          "text": [
            "S * * # .\n",
            "# # * # .\n",
            "* * * . .\n",
            "* # # # .\n",
            "* * * G #\n"
          ]
        }
      ],
      "source": [
        "from collections import deque\n",
        "\n",
        "# Grid peta\n",
        "grid = [\n",
        "    ['S', '.', '.', '#', '.'],\n",
        "    ['#', '#', '.', '#', '.'],\n",
        "    ['.', '.', '.', '.', '.'],\n",
        "    ['.', '#', '#', '#', '.'],\n",
        "    ['.', '.', '.', 'G', '#']\n",
        "]\n",
        "\n",
        "# Ukuran grid\n",
        "rows = len(grid)\n",
        "cols = len(grid[0])\n",
        "\n",
        "# Gerakan: atas, bawah, kiri, kanan\n",
        "directions = [(-1,0), (1,0), (0,-1), (0,1)]\n",
        "\n",
        "# Fungsi BFS\n",
        "def bfs(start):\n",
        "    queue = deque([start])\n",
        "    visited = set()\n",
        "    visited.add(start)\n",
        "    parent = {start: None}\n",
        "\n",
        "    while queue:\n",
        "        current = queue.popleft()\n",
        "        r, c = current\n",
        "\n",
        "        if grid[r][c] == 'G':\n",
        "            # Kembalikan jalur dari start ke goal\n",
        "            path = []\n",
        "            while current:\n",
        "                path.append(current)\n",
        "                current = parent[current]\n",
        "            path.reverse()\n",
        "            return path\n",
        "\n",
        "        for dr, dc in directions:\n",
        "            nr, nc = r + dr, c + dc\n",
        "            neighbor = (nr, nc)\n",
        "            if 0 <= nr < rows and 0 <= nc < cols and grid[nr][nc] != '#' and neighbor not in visited:\n",
        "                queue.append(neighbor)\n",
        "                visited.add(neighbor)\n",
        "                parent[neighbor] = (r, c)\n",
        "\n",
        "    return None  # Tidak ditemukan\n",
        "\n",
        "# Cari titik awal\n",
        "for r in range(rows):\n",
        "    for c in range(cols):\n",
        "        if grid[r][c] == 'S':\n",
        "            start = (r, c)\n",
        "\n",
        "# Jalankan BFS\n",
        "path = bfs(start)\n",
        "\n",
        "# Tampilkan hasil\n",
        "if path:\n",
        "    for r, c in path:\n",
        "        if grid[r][c] not in ('S', 'G'):\n",
        "            grid[r][c] = '*'\n",
        "\n",
        "    for row in grid:\n",
        "        print(' '.join(row))\n",
        "else:\n",
        "    print(\"Tidak ada jalur ke tujuan.\")\n"
      ]
    },
    {
      "cell_type": "code",
      "source": [],
      "metadata": {
        "id": "HWJt2ZiuV7Tf"
      },
      "execution_count": null,
      "outputs": []
    }
  ]
}